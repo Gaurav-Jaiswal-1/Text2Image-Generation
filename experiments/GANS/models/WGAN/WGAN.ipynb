{
 "cells": [
  {
   "cell_type": "code",
   "execution_count": null,
   "metadata": {},
   "outputs": [],
   "source": [
    "\"\"\"\n",
    "Idea in GANs - \n",
    "\n",
    "Two probability distribution -\n",
    "Pr - Distribution from real images\n",
    "Pg - Distribution that comes out from the generator implicit distribution\n",
    "\n",
    "\n",
    "Here we want these distribution Pg, Pr to be very similar in order to generate realistic looking images\n",
    "\n",
    "\n",
    "Q - How we define a distance between two probability distribution Pg, Pr\n",
    "\n",
    "-> There are some comman ways from statistics\n",
    "\n",
    "1) Kullback-leibler (KL) divergence\n",
    "2) Jensen-Shannon (JS) divergence\n",
    "3) Wasserstein Distance\n",
    "\n",
    "\n",
    "\"\"\""
   ]
  }
 ],
 "metadata": {
  "language_info": {
   "name": "python"
  }
 },
 "nbformat": 4,
 "nbformat_minor": 2
}
